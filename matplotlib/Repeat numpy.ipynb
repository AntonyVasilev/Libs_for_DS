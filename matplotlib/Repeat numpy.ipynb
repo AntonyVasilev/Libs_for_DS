{
 "cells": [
  {
   "cell_type": "code",
   "execution_count": 37,
   "metadata": {},
   "outputs": [],
   "source": [
    "import numpy as np"
   ]
  },
  {
   "cell_type": "markdown",
   "metadata": {},
   "source": [
    "#### 1. Создать одномерный массив Numpy под названием a из 12 последовательных целых чисел чисел от 12 до 24 невключительно"
   ]
  },
  {
   "cell_type": "code",
   "execution_count": 38,
   "metadata": {},
   "outputs": [
    {
     "name": "stdout",
     "output_type": "stream",
     "text": [
      "Array a: [12 13 14 15 16 17 18 19 20 21 22 23]\n"
     ]
    }
   ],
   "source": [
    "a = np.arange(12, 24)\n",
    "print('Array a:', a)"
   ]
  },
  {
   "cell_type": "markdown",
   "metadata": {},
   "source": [
    "#### 2. Создать 5 двумерных массивов разной формы из массива a. Не использовать в аргументах метода reshape число -1"
   ]
  },
  {
   "cell_type": "code",
   "execution_count": 39,
   "metadata": {},
   "outputs": [
    {
     "name": "stdout",
     "output_type": "stream",
     "text": [
      "Two-dimensional array 1:\n",
      " [[12 13 14 15]\n",
      " [16 17 18 19]\n",
      " [20 21 22 23]]\n",
      "Two-dimensional array 2:\n",
      " [[12 13]\n",
      " [14 15]\n",
      " [16 17]\n",
      " [18 19]\n",
      " [20 21]\n",
      " [22 23]]\n",
      "Two-dimensional array 3:\n",
      " [[12 13 14]\n",
      " [15 16 17]\n",
      " [18 19 20]\n",
      " [21 22 23]]\n",
      "Two-dimensional array 4:\n",
      " [[12 13 14 15 16 17]\n",
      " [18 19 20 21 22 23]]\n",
      "Two-dimensional array 5:\n",
      " [[12]\n",
      " [13]\n",
      " [14]\n",
      " [15]\n",
      " [16]\n",
      " [17]\n",
      " [18]\n",
      " [19]\n",
      " [20]\n",
      " [21]\n",
      " [22]\n",
      " [23]]\n"
     ]
    }
   ],
   "source": [
    "b1 = a.reshape(3, 4)\n",
    "b2 = a.reshape(6, 2)\n",
    "b3 = a.reshape(4, 3)\n",
    "b4 = a.reshape(2, 6)\n",
    "b5 = a.reshape(12, 1)\n",
    "print('Two-dimensional array 1:\\n', b1)\n",
    "print('Two-dimensional array 2:\\n', b2)\n",
    "print('Two-dimensional array 3:\\n', b3)\n",
    "print('Two-dimensional array 4:\\n', b4)\n",
    "print('Two-dimensional array 5:\\n', b5)"
   ]
  },
  {
   "cell_type": "markdown",
   "metadata": {},
   "source": [
    "#### 3. Создать 5 двумерных массивов разной формы из массива a. Использовать в аргументах метода reshape число -1 (в трех примерах - для обозначения числа столбцов, в двух - для строк)."
   ]
  },
  {
   "cell_type": "code",
   "execution_count": 40,
   "metadata": {},
   "outputs": [
    {
     "name": "stdout",
     "output_type": "stream",
     "text": [
      "Two-dimensional array 1:\n",
      " [[12 13 14 15]\n",
      " [16 17 18 19]\n",
      " [20 21 22 23]]\n",
      "Two-dimensional array 2:\n",
      " [[12 13]\n",
      " [14 15]\n",
      " [16 17]\n",
      " [18 19]\n",
      " [20 21]\n",
      " [22 23]]\n",
      "Two-dimensional array 3:\n",
      " [[12 13 14]\n",
      " [15 16 17]\n",
      " [18 19 20]\n",
      " [21 22 23]]\n",
      "Two-dimensional array 4:\n",
      " [[12 13 14 15 16 17]\n",
      " [18 19 20 21 22 23]]\n",
      "Two-dimensional array 5:\n",
      " [[12]\n",
      " [13]\n",
      " [14]\n",
      " [15]\n",
      " [16]\n",
      " [17]\n",
      " [18]\n",
      " [19]\n",
      " [20]\n",
      " [21]\n",
      " [22]\n",
      " [23]]\n"
     ]
    }
   ],
   "source": [
    "c1 = a.reshape(3, -1)\n",
    "c2 = a.reshape(-1, 2)\n",
    "c3 = a.reshape(4, -1)\n",
    "c4 = a.reshape(2, -1)\n",
    "c5 = a.reshape(-1, 1)\n",
    "print('Two-dimensional array 1:\\n', c1)\n",
    "print('Two-dimensional array 2:\\n', c2)\n",
    "print('Two-dimensional array 3:\\n', c3)\n",
    "print('Two-dimensional array 4:\\n', c4)\n",
    "print('Two-dimensional array 5:\\n', c5)"
   ]
  },
  {
   "cell_type": "markdown",
   "metadata": {},
   "source": [
    "#### 4. Можно ли массив Numpy, состоящий из одного столбца и 12 строк, назвать одномерным?"
   ]
  },
  {
   "cell_type": "markdown",
   "metadata": {},
   "source": [
    "`Можно`. По сути у него одна строка данных, расположенная вертикатьно - столбец."
   ]
  },
  {
   "cell_type": "markdown",
   "metadata": {},
   "source": [
    "#### 5. Создать массив из 3 строк и 4 столбцов, состоящий из случайных чисел с плавающей запятой из нормального распределения со средним, равным 0 и среднеквадратичным отклонением, равным 1.0. Получить из этого массива одномерный массив с таким же атрибутом size, как и исходный массив."
   ]
  },
  {
   "cell_type": "code",
   "execution_count": 41,
   "metadata": {},
   "outputs": [
    {
     "name": "stdout",
     "output_type": "stream",
     "text": [
      "Two-dimensial array with random values:\n",
      " [[ 0.29870072  0.78023217 -0.06048491  1.59465847]\n",
      " [ 0.16582609 -0.74216023  0.08261279 -0.83302656]\n",
      " [-1.57870814 -0.78347286  0.05524314  0.33046563]]\n",
      "1D array:\n",
      " [ 0.29870072  0.78023217 -0.06048491  1.59465847  0.16582609 -0.74216023\n",
      "  0.08261279 -0.83302656 -1.57870814 -0.78347286  0.05524314  0.33046563]\n"
     ]
    }
   ],
   "source": [
    "ar = np.random.randn(3, 4)\n",
    "print('Two-dimensial array with random values:\\n', ar)\n",
    "\n",
    "ar_flatten = ar.flatten()\n",
    "print('1D array:\\n', ar_flatten)"
   ]
  },
  {
   "cell_type": "markdown",
   "metadata": {},
   "source": [
    "#### 6. Создать массив a, состоящий из целых чисел, убывающих от 20 до 0 невключительно с интервалом 2."
   ]
  },
  {
   "cell_type": "code",
   "execution_count": 42,
   "metadata": {},
   "outputs": [
    {
     "name": "stdout",
     "output_type": "stream",
     "text": [
      "Decreasing array: [20 18 16 14 12 10  8  6  4  2]\n"
     ]
    }
   ],
   "source": [
    "a = np.arange(20, 0, -2)\n",
    "print('Decreasing array:', a)"
   ]
  },
  {
   "cell_type": "markdown",
   "metadata": {},
   "source": [
    "#### 7. Создать массив b, состоящий из 1 строки и 10 столбцов: целых чисел, убывающих от 20 до 1 невключительно с интервалом 2. В чем разница между массивами a и b?"
   ]
  },
  {
   "cell_type": "code",
   "execution_count": 43,
   "metadata": {},
   "outputs": [
    {
     "name": "stdout",
     "output_type": "stream",
     "text": [
      "Decreasing array: [20 18 16 14 12 10  8  6  4  2]\n"
     ]
    }
   ],
   "source": [
    "b = np.arange(20, 1, -2)\n",
    "print('Decreasing array:', b)"
   ]
  },
  {
   "cell_type": "code",
   "execution_count": 44,
   "metadata": {},
   "outputs": [
    {
     "name": "stdout",
     "output_type": "stream",
     "text": [
      "Array \"a\" equals array \"b\":\n",
      " [ True  True  True  True  True  True  True  True  True  True]\n"
     ]
    }
   ],
   "source": [
    "print('Array \"a\" equals array \"b\":\\n', a == b)"
   ]
  },
  {
   "cell_type": "markdown",
   "metadata": {},
   "source": [
    "Массивы a и b ничем не отличаются. Т.к. шаг обоих массивов равен 2, не имеет значение до 0 или 1 невключительно они создаются. Количество и значения их элементов полностью совпадают."
   ]
  },
  {
   "cell_type": "markdown",
   "metadata": {},
   "source": [
    "#### 8. Вертикально соединить массивы a и b. a - двумерный массив из нулей, число строк которого больше 1 и на 1 меньше, чем число строк двумерного массива b, состоящего из единиц. Итоговый массив v должен иметь атрибут size, равный 10."
   ]
  },
  {
   "cell_type": "code",
   "execution_count": 45,
   "metadata": {},
   "outputs": [
    {
     "name": "stdout",
     "output_type": "stream",
     "text": [
      "Array a:\n",
      " [[0. 0.]\n",
      " [0. 0.]]\n",
      "Array b:\n",
      " [[1. 1.]\n",
      " [1. 1.]\n",
      " [1. 1.]]\n"
     ]
    }
   ],
   "source": [
    "a = np.zeros((2, 2))\n",
    "print('Array a:\\n', a)\n",
    "\n",
    "b = np.ones((3, 2))\n",
    "print('Array b:\\n', b)"
   ]
  },
  {
   "cell_type": "code",
   "execution_count": 46,
   "metadata": {},
   "outputs": [
    {
     "name": "stdout",
     "output_type": "stream",
     "text": [
      "Concatenated array\"\n",
      " [[0. 0.]\n",
      " [0. 0.]\n",
      " [1. 1.]\n",
      " [1. 1.]\n",
      " [1. 1.]]\n",
      "Array size: 10\n"
     ]
    }
   ],
   "source": [
    "# variant 1\n",
    "v = np.vstack((a, b))\n",
    "print('Concatenated array\"\\n', v)\n",
    "print(\"Array size:\", v.size)"
   ]
  },
  {
   "cell_type": "code",
   "execution_count": 47,
   "metadata": {},
   "outputs": [
    {
     "name": "stdout",
     "output_type": "stream",
     "text": [
      "Concatenated array\"\n",
      " [[0. 0.]\n",
      " [0. 0.]\n",
      " [1. 1.]\n",
      " [1. 1.]\n",
      " [1. 1.]]\n",
      "Array size: 10\n"
     ]
    }
   ],
   "source": [
    "# variant 2\n",
    "v = np.concatenate((a, b), axis=0)\n",
    "print('Concatenated array\"\\n', v)\n",
    "print(\"Array size:\", v.size)"
   ]
  },
  {
   "cell_type": "code",
   "execution_count": null,
   "metadata": {},
   "outputs": [],
   "source": []
  }
 ],
 "metadata": {
  "kernelspec": {
   "display_name": "Python 3",
   "language": "python",
   "name": "python3"
  },
  "language_info": {
   "codemirror_mode": {
    "name": "ipython",
    "version": 3
   },
   "file_extension": ".py",
   "mimetype": "text/x-python",
   "name": "python",
   "nbconvert_exporter": "python",
   "pygments_lexer": "ipython3",
   "version": "3.8.3"
  }
 },
 "nbformat": 4,
 "nbformat_minor": 4
}
