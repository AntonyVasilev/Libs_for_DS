{
 "cells": [
  {
   "cell_type": "markdown",
   "metadata": {},
   "source": [
    "# Numpy"
   ]
  },
  {
   "cell_type": "code",
   "execution_count": 1,
   "metadata": {},
   "outputs": [],
   "source": [
    "import numpy as np"
   ]
  },
  {
   "cell_type": "markdown",
   "metadata": {},
   "source": [
    "### Массивы"
   ]
  },
  {
   "cell_type": "markdown",
   "metadata": {},
   "source": [
    "##### Одномерные"
   ]
  },
  {
   "cell_type": "code",
   "execution_count": 3,
   "metadata": {},
   "outputs": [
    {
     "name": "stdout",
     "output_type": "stream",
     "text": [
      "[1 2 3]\n"
     ]
    }
   ],
   "source": [
    "# передаем строку\n",
    "a = np.array([1, 2, 3])\n",
    "print(a)"
   ]
  },
  {
   "cell_type": "code",
   "execution_count": 4,
   "metadata": {},
   "outputs": [
    {
     "name": "stdout",
     "output_type": "stream",
     "text": [
      "['1' '2' '3.6']\n"
     ]
    }
   ],
   "source": [
    "# изменяем тит данных\n",
    "a = np.array([1, 2, 3.6], dtype=str)\n",
    "print(a)"
   ]
  },
  {
   "cell_type": "code",
   "execution_count": 6,
   "metadata": {},
   "outputs": [
    {
     "name": "stdout",
     "output_type": "stream",
     "text": [
      "По индексу: 2\n",
      "По отрицательному индексу: 3.6\n",
      "По срезу: ['2']\n"
     ]
    }
   ],
   "source": [
    "# доступ к элементам массива\n",
    "print('По индексу:', a[1])\n",
    "print('По отрицательному индексу:', a[-1])\n",
    "print('По срезу:', a[1:2])"
   ]
  },
  {
   "cell_type": "markdown",
   "metadata": {},
   "source": [
    "##### Двумерные"
   ]
  },
  {
   "cell_type": "code",
   "execution_count": 8,
   "metadata": {},
   "outputs": [
    {
     "name": "stdout",
     "output_type": "stream",
     "text": [
      "[[1 2 3 1]\n",
      " [4 5 6 4]\n",
      " [7 8 9 7]]\n",
      "Размерность A: 2\n",
      "Форма A: (3, 4)\n",
      "Общее количество элементов: 12\n"
     ]
    }
   ],
   "source": [
    "A = np.array([[1, 2, 3, 1], \n",
    "              [4, 5, 6, 4], \n",
    "              [7, 8, 9, 7]])\n",
    "print(A)\n",
    "print(f\"Размерность A: {A.ndim}\")\n",
    "print(f\"Форма A: {A.shape}\")\n",
    "print(f\"Общее количество элементов: {A.size}\")"
   ]
  },
  {
   "cell_type": "code",
   "execution_count": 9,
   "metadata": {},
   "outputs": [
    {
     "name": "stdout",
     "output_type": "stream",
     "text": [
      "По индексу 1\n",
      "По срезу [[1 2]\n",
      " [4 5]\n",
      " [7 8]]\n"
     ]
    }
   ],
   "source": [
    "#доступ к элементам массива\n",
    "print(f'По индексу {A[0, 0]}')\n",
    "print(f'По срезу {A[0:3, :2]}')"
   ]
  },
  {
   "cell_type": "markdown",
   "metadata": {},
   "source": [
    "При использовании срезов создается представление оригинального массива, а не новый массив."
   ]
  },
  {
   "cell_type": "code",
   "execution_count": 11,
   "metadata": {},
   "outputs": [
    {
     "name": "stdout",
     "output_type": "stream",
     "text": [
      "[[6 4]\n",
      " [9 7]]\n"
     ]
    }
   ],
   "source": [
    "# Создание нового массивас помощью среза из другого\n",
    "C = A[1:3, 2:4].copy()\n",
    "print(C)"
   ]
  },
  {
   "cell_type": "markdown",
   "metadata": {},
   "source": [
    "### Векторы"
   ]
  },
  {
   "cell_type": "code",
   "execution_count": 12,
   "metadata": {},
   "outputs": [],
   "source": [
    "a = np.array([0, 1, 2, 3, 4])\n",
    "b = np.array([5, 6, 7, 8, 9])"
   ]
  },
  {
   "cell_type": "code",
   "execution_count": 20,
   "metadata": {},
   "outputs": [
    {
     "name": "stdout",
     "output_type": "stream",
     "text": [
      "Складывание с помощью \"+\":\t [ 5  7  9 11 13]\n",
      "Складывание с помощью \"np.add\":\t [ 5  7  9 11 13]\n",
      "Вычитание с помощью \"-\":\t [-5 -5 -5 -5 -5]\n",
      "Вычитание с помощью \"np.subtract\":\t [-5 -5 -5 -5 -5]\n",
      "Умножение вектора на скаляр с помощью \"*\":\t [ 0  3  6  9 12]\n",
      "Умножение вектора на скаляр с помощью \"np.multiply\":\t [ 0  3  6  9 12]\n",
      "Умножение вектора на скаляр с помощью \"np.dot\":\t [ 0  3  6  9 12]\n",
      "Умножение вектора на скаляр с помощью \"a.dot\":\t [ 0  3  6  9 12]\n"
     ]
    }
   ],
   "source": [
    "print(f'Складывание с помощью \"+\":\\t {a + b}')\n",
    "print(f'Складывание с помощью \"np.add\":\\t {np.add(a, b)}')\n",
    "print(f'Вычитание с помощью \"-\":\\t {a - b}')\n",
    "print(f'Вычитание с помощью \"np.subtract\":\\t {np.subtract(a, b)}')\n",
    "print(f'Умножение вектора на скаляр с помощью \"*\":\\t {a * 3}')\n",
    "print(f'Умножение вектора на скаляр с помощью \"np.multiply\":\\t {np.multiply(a, 3)}')\n",
    "print(f'Умножение вектора на скаляр с помощью \"np.dot\":\\t {np.dot(a, 3)}')\n",
    "print(f'Умножение вектора на скаляр с помощью \"a.dot\":\\t {a.dot(3)}')"
   ]
  },
  {
   "cell_type": "code",
   "execution_count": 19,
   "metadata": {},
   "outputs": [
    {
     "name": "stdout",
     "output_type": "stream",
     "text": [
      "Скалярное произведение векторов с помощью \"a.dot\":\t 80\n",
      "Скалярное произведение векторов  с помощью \"@\":\t 80\n"
     ]
    }
   ],
   "source": [
    "print(f'Скалярное произведение векторов с помощью \"a.dot\":\\t {a.dot(b)}')\n",
    "print(f'Скалярное произведение векторов  с помощью \"@\":\\t {a @ b}')"
   ]
  },
  {
   "cell_type": "markdown",
   "metadata": {},
   "source": [
    "### Матрицы"
   ]
  },
  {
   "cell_type": "code",
   "execution_count": 28,
   "metadata": {},
   "outputs": [],
   "source": [
    "A = np.array([[0, 1],\n",
    "              [2, 3],\n",
    "              [4, 5]])\n",
    "\n",
    "B = np.array([[6, 7],\n",
    "              [8, 9],\n",
    "              [10, 11]])"
   ]
  },
  {
   "cell_type": "code",
   "execution_count": 29,
   "metadata": {},
   "outputs": [
    {
     "name": "stdout",
     "output_type": "stream",
     "text": [
      "Складывание с помощью \"+\":\n",
      " [[ 6  8]\n",
      " [10 12]\n",
      " [14 16]]\n",
      "Складывание с помощью \"np.add\":\n",
      " [[ 6  8]\n",
      " [10 12]\n",
      " [14 16]]\n",
      "Вычитание с помощью \"-\":\n",
      " [[-6 -6]\n",
      " [-6 -6]\n",
      " [-6 -6]]\n",
      "Вычитание с помощью \"np.subtract\":\n",
      " [[-6 -6]\n",
      " [-6 -6]\n",
      " [-6 -6]]\n",
      "Умножение матрицы на скаляр:\n",
      " [[ 0  3]\n",
      " [ 6  9]\n",
      " [12 15]]\n"
     ]
    }
   ],
   "source": [
    "print(f'Складывание с помощью \"+\":\\n {A + B}')\n",
    "print(f'Складывание с помощью \"np.add\":\\n {np.add(A, B)}')\n",
    "print(f'Вычитание с помощью \"-\":\\n {A - B}')\n",
    "print(f'Вычитание с помощью \"np.subtract\":\\n {np.subtract(A, B)}')\n",
    "print(f'Умножение матрицы на скаляр:\\n {A * 3}')"
   ]
  },
  {
   "cell_type": "markdown",
   "metadata": {},
   "source": [
    "##### Умножение матриц\n",
    "Матрицы $A$ и $B$ можно умножить друг на друга, если _число столбцов_ первой матрицы равняется _числу строк_ второй матрицы. То есть если $A$ - матрица размера $n \\times k$, то матрица $B$ должна иметь размер $k \\times m$ для некоторого $m$.  \n",
    "В таком случае результатом умножения будет матрица $C$ размера $n \\times m$ (т.е. у неё будет строк как у первой матрицы, а столбцов - как у второй)."
   ]
  },
  {
   "cell_type": "code",
   "execution_count": 30,
   "metadata": {},
   "outputs": [
    {
     "name": "stdout",
     "output_type": "stream",
     "text": [
      "[[-6 -6 -6]\n",
      " [-5 -1  3]]\n"
     ]
    }
   ],
   "source": [
    "A = np.array([[1, 0, -1],\n",
    "              [3, 5, -4]])\n",
    "B = np.array([[1, 2, 3],\n",
    "              [4, 5, 6],\n",
    "              [7, 8, 9]])\n",
    "C = A.dot(B)\n",
    "print(C)"
   ]
  },
  {
   "cell_type": "markdown",
   "metadata": {},
   "source": [
    "Если перемножаемые матрицы являются квадратными, то результат их умножения будет снова квадратной матрицей, причём, того же размера. Это означает, что квадратную матрицу можно возводить в степень. В `numpy` это можно делать с помощью функции `matrix_power` из модуля `numpy.linalg`:"
   ]
  },
  {
   "cell_type": "code",
   "execution_count": 24,
   "metadata": {},
   "outputs": [
    {
     "name": "stdout",
     "output_type": "stream",
     "text": [
      "[[ 468  576  684]\n",
      " [1062 1305 1548]\n",
      " [1656 2034 2412]]\n"
     ]
    }
   ],
   "source": [
    "D = np.linalg.matrix_power(B, 3)\n",
    "print(D)"
   ]
  },
  {
   "cell_type": "markdown",
   "metadata": {},
   "source": [
    "##### Единичная и транспонированная матрица"
   ]
  },
  {
   "cell_type": "code",
   "execution_count": 31,
   "metadata": {},
   "outputs": [
    {
     "name": "stdout",
     "output_type": "stream",
     "text": [
      "Единичная матрица:\n",
      " [[1. 0. 0.]\n",
      " [0. 1. 0.]\n",
      " [0. 0. 1.]]\n",
      "Транспонированная матрица с помощью функции \"np.transpose\"\n",
      " [[ 1  3]\n",
      " [ 0  5]\n",
      " [-1 -4]]\n",
      "Транспонированная матрица с помощью метода \"A.transpose\"\n",
      " [[ 1  3]\n",
      " [ 0  5]\n",
      " [-1 -4]]\n",
      "Транспонированная матрица с помощью атрибута \"A.T\"\n",
      " [[ 1  3]\n",
      " [ 0  5]\n",
      " [-1 -4]]\n"
     ]
    }
   ],
   "source": [
    "print(f'Единичная матрица:\\n {np.eye(3)}')\n",
    "print(f'Транспонированная матрица с помощью функции \"np.transpose\"\\n {np.transpose(A)}')\n",
    "print(f'Транспонированная матрица с помощью метода \"A.transpose\"\\n {A.transpose()}')\n",
    "print(f'Транспонированная матрица с помощью атрибута \"A.T\"\\n {A.T}')"
   ]
  },
  {
   "cell_type": "markdown",
   "metadata": {},
   "source": [
    "##### Определитель и ранг матрицы, обратная матрица"
   ]
  },
  {
   "cell_type": "code",
   "execution_count": 33,
   "metadata": {},
   "outputs": [
    {
     "name": "stdout",
     "output_type": "stream",
     "text": [
      "Определитель матрицы:\t 6.66133814775094e-16\n",
      "Ранг матрицы:\t 2\n"
     ]
    }
   ],
   "source": [
    "print(f'Определитель матрицы:\\t {np.linalg.det(B)}')\n",
    "print(f'Ранг матрицы:\\t {np.linalg.matrix_rank(B)}')"
   ]
  },
  {
   "cell_type": "code",
   "execution_count": 34,
   "metadata": {},
   "outputs": [],
   "source": [
    "# Если определитель квадратной матрицы не равен  0 , то мы можем посчитать для неё обратную матрицу. \n",
    "# Это матрица, которая при умножении на исходную матрицу даёт единичную матрицу\n"
   ]
  },
  {
   "cell_type": "code",
   "execution_count": 35,
   "metadata": {},
   "outputs": [
    {
     "name": "stdout",
     "output_type": "stream",
     "text": [
      "Обратная матрица:\n",
      " [[-4.50359963e+15  9.00719925e+15 -4.50359963e+15]\n",
      " [ 9.00719925e+15 -1.80143985e+16  9.00719925e+15]\n",
      " [-4.50359963e+15  9.00719925e+15 -4.50359963e+15]]\n"
     ]
    }
   ],
   "source": [
    "print(f'Обратная матрица:\\n {np.linalg.inv(B)}')"
   ]
  },
  {
   "cell_type": "markdown",
   "metadata": {},
   "source": [
    "##### Генерирование массивов с заданными свойствами"
   ]
  },
  {
   "cell_type": "code",
   "execution_count": 36,
   "metadata": {},
   "outputs": [
    {
     "name": "stdout",
     "output_type": "stream",
     "text": [
      "Массив из нулей:\n",
      " [[0. 0. 0. 0.]\n",
      " [0. 0. 0. 0.]\n",
      " [0. 0. 0. 0.]]\n",
      "Массив из едениц:\n",
      " [[1. 1. 1. 1.]\n",
      " [1. 1. 1. 1.]\n",
      " [1. 1. 1. 1.]]\n"
     ]
    }
   ],
   "source": [
    "print(f'Массив из нулей:\\n {np.zeros((3, 4))}')\n",
    "print(f'Массив из едениц:\\n {np.ones((3, 4))}')"
   ]
  },
  {
   "cell_type": "code",
   "execution_count": 39,
   "metadata": {},
   "outputs": [
    {
     "name": "stdout",
     "output_type": "stream",
     "text": [
      "Последовательность чисел:\t [0 1 2 3 4 5 6 7 8 9]\n",
      "Последовательность чисел от и до:\t [2 3 4 5 6 7 8 9]\n",
      "Последовательность чисел с шагом:\t [2 4 6 8]\n"
     ]
    }
   ],
   "source": [
    "print(f'Последовательность чисел:\\t {np.arange(10)}')\n",
    "print(f'Последовательность чисел от и до:\\t {np.arange(2, 10)}')\n",
    "print(f'Последовательность чисел с шагом:\\t {np.arange(2, 10, 2)}') # шаг может быть дробным или отрицательным"
   ]
  },
  {
   "cell_type": "code",
   "execution_count": 40,
   "metadata": {},
   "outputs": [
    {
     "data": {
      "text/plain": [
       "array([2.        , 2.11111111, 2.22222222, 2.33333333, 2.44444444,\n",
       "       2.55555556, 2.66666667, 2.77777778, 2.88888889, 3.        ])"
      ]
     },
     "execution_count": 40,
     "metadata": {},
     "output_type": "execute_result"
    }
   ],
   "source": [
    "# Возвращает количество значений, равномерно расставленных между заданными началом и концом отрезка включительно\n",
    "np.linspace(2, 3, 10)"
   ]
  },
  {
   "cell_type": "code",
   "execution_count": 42,
   "metadata": {},
   "outputs": [
    {
     "data": {
      "text/plain": [
       "array([   1.,   10.,  100., 1000.])"
      ]
     },
     "execution_count": 42,
     "metadata": {},
     "output_type": "execute_result"
    }
   ],
   "source": [
    "# Аналогична linspace, но в качестве начала и конца отрезка мы подаём не сами числа, а степени числа  10\n",
    "np.logspace(0, 3, 4)"
   ]
  },
  {
   "cell_type": "markdown",
   "metadata": {},
   "source": [
    "##### Массивы случайных значений"
   ]
  },
  {
   "cell_type": "code",
   "execution_count": 47,
   "metadata": {},
   "outputs": [
    {
     "name": "stdout",
     "output_type": "stream",
     "text": [
      "Массив заданной формы, состоящий из чисел, взятых из равномерного распределения на отрезке [0,1):\n",
      " [[0.38593562 0.34888614 0.14618527 0.12652019]\n",
      " [0.2813262  0.13355982 0.44261879 0.14834902]\n",
      " [0.19662482 0.61272782 0.92082593 0.7432735 ]]\n",
      "Аналогичный массив, взятый из нормального распределения (со средним 0 и среднеквадратическим отклонением 1):\n",
      "[[ 1.60728353 -0.09455181  1.82752414  0.80815918]\n",
      " [ 0.91349842  0.98073424  0.74194895 -0.81622064]\n",
      " [-1.12958986 -0.88776898 -1.62915214 -0.46297933]]\n",
      "Массив из целых чисел в указанном диапазоне:\n",
      " [[72 14 53 45]\n",
      " [31 14 44 39]\n",
      " [50 40 46 30]]\n"
     ]
    }
   ],
   "source": [
    "print(f'Массив заданной формы, состоящий из чисел, взятых из равномерного распределения на отрезке [0,1):\\n {np.random.sample((3, 4))}')\n",
    "print(f'Аналогичный массив, взятый из нормального распределения (со средним 0 и среднеквадратическим отклонением 1):\\n{np.random.randn(3, 4)}')\n",
    "print(f'Массив из целых чисел в указанном диапазоне:\\n {np.random.randint(0, 100, (3, 4))}')"
   ]
  },
  {
   "cell_type": "code",
   "execution_count": 48,
   "metadata": {},
   "outputs": [
    {
     "name": "stdout",
     "output_type": "stream",
     "text": [
      "Случайно выбранные элементы из заранее заданного массива:\n",
      " [[ -8  -8  -7  -7]\n",
      " [-10  -3  -6  -5]\n",
      " [ -4  -5  -3  -1]]\n"
     ]
    }
   ],
   "source": [
    "Ad = np.arange(-10, 0)\n",
    "print(f'Случайно выбранные элементы из заранее заданного массива:\\n {np.random.choice(Ad, (3, 4))}')"
   ]
  },
  {
   "cell_type": "markdown",
   "metadata": {},
   "source": [
    "##### Изменение размеров массива"
   ]
  },
  {
   "cell_type": "code",
   "execution_count": 53,
   "metadata": {},
   "outputs": [
    {
     "name": "stdout",
     "output_type": "stream",
     "text": [
      "Создание двумерного массива:\n",
      "[[ 0  1  2  3]\n",
      " [ 4  5  6  7]\n",
      " [ 8  9 10 11]]\n",
      "Создание двумерного массива если извстен 1 из параметров:\n",
      "[[ 0  1  2  3]\n",
      " [ 4  5  6  7]\n",
      " [ 8  9 10 11]]\n",
      "С помощью resize:\n",
      " [[ 0  1  2  3]\n",
      " [ 4  5  6  7]\n",
      " [ 8  9 10 11]]\n",
      "Делает обратно одномерный массив:\t [ 0  1  2  3  4  5  6  7  8  9 10 11]\n"
     ]
    }
   ],
   "source": [
    "ar = np.arange(12)\n",
    "print(f'Создание двумерного массива:\\n{ar.reshape(3, 4)}')\n",
    "print(f'Создание двумерного массива если извстен 1 из параметров:\\n{ar.reshape(3, -1)}')\n",
    "# reshape возвращает новый массив, а resize меняет исходный\n",
    "ar.resize(3, 4)\n",
    "print(f'С помощью resize:\\n {ar}')\n",
    "print(f'Делает обратно одномерный массив:\\t {ar.flatten()}')"
   ]
  },
  {
   "cell_type": "code",
   "execution_count": null,
   "metadata": {},
   "outputs": [],
   "source": []
  }
 ],
 "metadata": {
  "kernelspec": {
   "display_name": "Python 3",
   "language": "python",
   "name": "python3"
  },
  "language_info": {
   "codemirror_mode": {
    "name": "ipython",
    "version": 3
   },
   "file_extension": ".py",
   "mimetype": "text/x-python",
   "name": "python",
   "nbconvert_exporter": "python",
   "pygments_lexer": "ipython3",
   "version": "3.8.3"
  }
 },
 "nbformat": 4,
 "nbformat_minor": 4
}
